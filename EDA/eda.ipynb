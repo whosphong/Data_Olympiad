{
 "cells": [
  {
   "cell_type": "code",
   "execution_count": null,
   "metadata": {},
   "outputs": [],
   "source": [
    "import numpy as np\n",
    "import pandas as pd\n",
    "import matplotlib.pyplot as plt\n",
    "import re\n",
    "import plotly.express as px\n",
    "import seaborn as sns"
   ]
  },
  {
   "cell_type": "markdown",
   "metadata": {},
   "source": [
    "# Import Cleaned data"
   ]
  },
  {
   "cell_type": "code",
   "execution_count": null,
   "metadata": {},
   "outputs": [],
   "source": [
    "df = pd.read_csv('../Cleaned Data Set/cleaned_data_set_NO_anomalies.csv', index_col='timestamp')"
   ]
  },
  {
   "cell_type": "code",
   "execution_count": null,
   "metadata": {},
   "outputs": [],
   "source": [
    "df.head()"
   ]
  },
  {
   "cell_type": "markdown",
   "metadata": {},
   "source": [
    "# Basic Data Description"
   ]
  },
  {
   "cell_type": "markdown",
   "metadata": {},
   "source": [
    "### Group data by Site and Primary Use"
   ]
  },
  {
   "cell_type": "code",
   "execution_count": null,
   "metadata": {},
   "outputs": [],
   "source": [
    "sitbuildloc = df.columns.to_series().str.extract(r'(?P<site>[^_]+)_(?P<usage>[^_]+)_(?P<location>.+)')\n",
    "sitbuildloc.index = df.columns\n",
    "\n",
    "sitbuildloc"
   ]
  },
  {
   "cell_type": "code",
   "execution_count": null,
   "metadata": {},
   "outputs": [],
   "source": [
    "total_kwh = df.sum(axis=0)\n",
    "sitbuildloc['total_kwh'] = total_kwh"
   ]
  },
  {
   "cell_type": "code",
   "execution_count": null,
   "metadata": {},
   "outputs": [],
   "source": [
    "site_usage_counts = sitbuildloc.groupby(['site', 'usage']).size()\n",
    "site_counts = sitbuildloc.groupby(['site']).size()\n",
    "usage_counts = sitbuildloc.groupby(['usage']).size()"
   ]
  },
  {
   "cell_type": "code",
   "execution_count": null,
   "metadata": {},
   "outputs": [],
   "source": [
    "# Melt for long-form\n",
    "df_EDA = df.copy()\n",
    "df_EDA['timestamp'] = df_EDA.index\n",
    "df_melted = df_EDA.melt(id_vars='timestamp', var_name='column', value_name='value')\n",
    "df_melted = df_melted.join(sitbuildloc, on='column')\n",
    "\n",
    "usage_mean_df = (\n",
    "    df_melted.groupby(['timestamp', 'usage'])['value']\n",
    "    .mean()\n",
    "    .reset_index()\n",
    ")\n",
    "\n",
    "site_mean_df = (\n",
    "    df_melted.groupby(['timestamp', 'site'])['value']\n",
    "    .mean()\n",
    "    .reset_index()\n",
    ")\n",
    "\n",
    "usage_total_df = (\n",
    "    df_melted.groupby(['timestamp', 'usage'])['value']\n",
    "    .sum()\n",
    "    .reset_index()\n",
    ")\n",
    "\n",
    "site_total_df = (\n",
    "    df_melted.groupby(['timestamp', 'site'])['value']\n",
    "    .sum()\n",
    "    .reset_index()\n",
    ")\n",
    "\n",
    "site_usage_mean_df = (\n",
    "    df_melted.groupby(['timestamp', 'site', 'usage'])['value']\n",
    "    .mean()\n",
    "    .reset_index()\n",
    ")"
   ]
  },
  {
   "cell_type": "markdown",
   "metadata": {},
   "source": [
    "# Description of Data"
   ]
  },
  {
   "cell_type": "markdown",
   "metadata": {},
   "source": [
    "## By Site"
   ]
  },
  {
   "cell_type": "code",
   "execution_count": null,
   "metadata": {},
   "outputs": [],
   "source": [
    "pivot_site_mean_df = usage_mean_df.pivot(index='timestamp', columns='usage', values='value')\n",
    "pivot_site_mean_df.describe()"
   ]
  },
  {
   "cell_type": "code",
   "execution_count": null,
   "metadata": {},
   "outputs": [],
   "source": [
    "pivot_site_total_df = usage_total_df.pivot(index='timestamp', columns='usage', values='value')\n",
    "pivot_site_total_df.describe()"
   ]
  },
  {
   "cell_type": "markdown",
   "metadata": {},
   "source": [
    "## By Primary Use"
   ]
  },
  {
   "cell_type": "code",
   "execution_count": null,
   "metadata": {},
   "outputs": [],
   "source": [
    "pivot_usage_mean_df = usage_mean_df.pivot(index='timestamp', columns='usage', values='value')\n",
    "pivot_usage_mean_df.describe()"
   ]
  },
  {
   "cell_type": "code",
   "execution_count": null,
   "metadata": {},
   "outputs": [],
   "source": [
    "pivot_usage_total_df = usage_total_df.pivot(index='timestamp', columns='usage', values='value')\n",
    "pivot_usage_total_df.describe()"
   ]
  },
  {
   "cell_type": "markdown",
   "metadata": {},
   "source": [
    "## Investigate data by Site"
   ]
  },
  {
   "cell_type": "code",
   "execution_count": null,
   "metadata": {},
   "outputs": [],
   "source": [
    "site_counts_df = site_counts.reset_index()\n",
    "site_counts_df.columns = ['Site', 'Number of Buildings']\n",
    "fig = px.bar(site_counts_df, x='Site', y = 'Number of Buildings', title = 'Number of Building per Site')\n",
    "fig.show()\n",
    "\n",
    "fig.write_image(f\"../EDA/eda_images/num_per_sites.png\")"
   ]
  },
  {
   "cell_type": "markdown",
   "metadata": {},
   "source": [
    "### Mean Energy Use per Building by Site"
   ]
  },
  {
   "cell_type": "code",
   "execution_count": null,
   "metadata": {},
   "outputs": [],
   "source": [
    "building_mean_kwh = sitbuildloc.groupby('site')['total_kwh'].mean()\n",
    "building_mean_kwh_df = building_mean_kwh.reset_index()\n",
    "building_mean_kwh_df.columns = ['Site', 'Mean Energy Use']\n",
    "fig = px.bar(building_mean_kwh_df, x='Site', y = 'Mean Energy Use', title = 'Mean Energy Use per Building by Site')\n",
    "# fig.show()\n",
    "\n",
    "fig.write_image(f\"../EDA/eda_images/mean_energy_per_sites.png\")"
   ]
  },
  {
   "cell_type": "markdown",
   "metadata": {},
   "source": [
    "### Total Energy Use by Site"
   ]
  },
  {
   "cell_type": "code",
   "execution_count": null,
   "metadata": {},
   "outputs": [],
   "source": [
    "building_total_kwh = sitbuildloc.groupby('site')['total_kwh'].sum()\n",
    "building_total_kwh_df = building_total_kwh.reset_index()\n",
    "building_total_kwh_df.columns = ['Site', 'Total Energy Use']\n",
    "fig = px.bar(building_total_kwh_df, x='Site', y = 'Total Energy Use', title = 'Total Energy by Site')\n",
    "# fig.show()\n",
    "fig.write_image(f\"../EDA/eda_images/total_energy_per_sites.png\")"
   ]
  },
  {
   "cell_type": "markdown",
   "metadata": {},
   "source": [
    "## Investigate data by Primary Use"
   ]
  },
  {
   "cell_type": "code",
   "execution_count": null,
   "metadata": {},
   "outputs": [],
   "source": [
    "usage_counts_df = usage_counts.reset_index()\n",
    "usage_counts_df.columns = ['Usage', 'Number of Buildings']\n",
    "fig = px.bar(usage_counts_df, x='Usage', y = 'Number of Buildings', title = 'Number of Building per Primary Use')\n",
    "fig.show()\n",
    "fig.write_image(f\"../EDA/eda_images/num_per_primary_use.png\")"
   ]
  },
  {
   "cell_type": "markdown",
   "metadata": {},
   "source": [
    "### Mean Energy Use per Building by Primary Use"
   ]
  },
  {
   "cell_type": "code",
   "execution_count": null,
   "metadata": {},
   "outputs": [],
   "source": [
    "building_mean_kwh = sitbuildloc.groupby('usage')['total_kwh'].mean().sort_values(ascending=False)\n",
    "building_mean_kwh_df = building_mean_kwh.reset_index()\n",
    "building_mean_kwh_df.columns = ['Primary Use', 'Mean Energy Use']\n",
    "fig = px.bar(building_mean_kwh_df, x='Primary Use', y = 'Mean Energy Use', title = 'Mean Energy Use per Building by Primary Use')\n",
    "# fig.show()\n",
    "fig.write_image(f\"../EDA/eda_images/mean_energy_per_primary_use.png\")"
   ]
  },
  {
   "cell_type": "markdown",
   "metadata": {},
   "source": [
    "### Total Energy Use by Primary Use"
   ]
  },
  {
   "cell_type": "code",
   "execution_count": null,
   "metadata": {},
   "outputs": [],
   "source": [
    "building_total_kwh = sitbuildloc.groupby('usage')['total_kwh'].sum()\n",
    "building_total_kwh_df = building_total_kwh.reset_index()\n",
    "building_total_kwh_df.columns = ['Primary Use', 'Total Energy Use']\n",
    "fig = px.bar(building_total_kwh_df, x='Primary Use', y = 'Total Energy Use', title = 'Total Energy by Primary Use')\n",
    "# fig.show()\n",
    "fig.write_image(f\"../EDA/eda_images/total_energy_per_primary_use.png\")"
   ]
  },
  {
   "cell_type": "markdown",
   "metadata": {},
   "source": [
    "## Boxplot for checking Outliers"
   ]
  },
  {
   "cell_type": "code",
   "execution_count": null,
   "metadata": {},
   "outputs": [],
   "source": [
    "fig, axes = plt.subplots(1, 2, figsize=(20, 6))  # 1 row, 2 columns\n",
    "\n",
    "sns.boxplot(data=sitbuildloc, x='site', y='total_kwh', ax=axes[0])\n",
    "axes[0].set_title('Boxplot of Building Energy Use categorized Site')\n",
    "axes[0].set_xlabel('Site')\n",
    "axes[0].set_ylabel('Energy Use')\n",
    "\n",
    "sns.boxplot(data=sitbuildloc, x='usage', y='total_kwh', ax=axes[1])\n",
    "axes[1].set_title('Boxplot by Energy Use categorized Primary Use')\n",
    "axes[1].set_xlabel('Primary Use')\n",
    "axes[1].tick_params(axis='x', rotation=45)\n",
    "axes[1].set_ylabel('Energy Use')\n",
    "plt.savefig(f\"../EDA/eda_images/boxplot.png\")\n",
    "plt.show()\n"
   ]
  },
  {
   "cell_type": "code",
   "execution_count": null,
   "metadata": {},
   "outputs": [],
   "source": [
    "buildings_to_check = sitbuildloc[(((sitbuildloc['usage']=='public') & (sitbuildloc['total_kwh'] > 9000000)) |\n",
    "                                    ((sitbuildloc['usage']=='education') & (sitbuildloc['total_kwh'] > 25000000)) |\n",
    "                                    ((sitbuildloc['usage']=='office') & (sitbuildloc['total_kwh'] > 20000000)) |\n",
    "                                    ((sitbuildloc['usage']=='assembly') & (sitbuildloc['total_kwh'] > 10000000)))]"
   ]
  },
  {
   "cell_type": "code",
   "execution_count": null,
   "metadata": {},
   "outputs": [],
   "source": [
    "buildings_to_check"
   ]
  },
  {
   "cell_type": "markdown",
   "metadata": {},
   "source": [
    "### Check the outliers in boxplot"
   ]
  },
  {
   "cell_type": "code",
   "execution_count": null,
   "metadata": {},
   "outputs": [],
   "source": [
    "def plot_special_meter(building):\n",
    "    usage = re.search(r'.?_(.+)_.?', building).group(1)\n",
    "    sub_usage_df = usage_mean_df[usage_mean_df['usage']==usage].reset_index(drop=True)\n",
    "    sub_usage_df['usage'] = 'mean of ' + sub_usage_df['usage']\n",
    "    \n",
    "    site = re.search(r'(.+)_.+_.+', building).group(1)\n",
    "    sub_site_df = site_mean_df[site_mean_df['site']==site].reset_index(drop=True)\n",
    "    sub_site_df['usage'] = 'mean of ' + sub_site_df['site']\n",
    "    \n",
    "    sub_site_usage_df = site_usage_mean_df[((site_usage_mean_df['site']==site) & (site_usage_mean_df['usage']==usage))].reset_index(drop=True)\n",
    "    sub_site_usage_df['usage'] = 'mean of ' + sub_site_usage_df['site'] + \" \" + sub_site_usage_df['usage']\n",
    "    \n",
    "    meter_time_series = df[building]\n",
    "    meter_df = meter_time_series.reset_index()\n",
    "    meter_df.set_index('timestamp', inplace=True)\n",
    "    meter_df.columns = ['value']\n",
    "    meter_df['value'] = meter_df['value'].rolling(window=24, min_periods=1).mean()\n",
    "    meter_df.reset_index(inplace=True)\n",
    "    meter_df['usage'] = building\n",
    "\n",
    "    meter_df = pd.concat([meter_df,sub_usage_df, sub_site_df, sub_site_usage_df], axis=0)\n",
    "\n",
    "    fig = px.line(\n",
    "        meter_df,\n",
    "        x='timestamp',\n",
    "        y='value',\n",
    "        color='usage',\n",
    "        title=f'Mean Energy Use Over Time {building} (24-Hour Rolling Avg)'\n",
    "    )\n",
    "    fig.write_image(f\"../EDA/eda_images/check_specific_meters/building_{building}.png\")"
   ]
  },
  {
   "cell_type": "code",
   "execution_count": null,
   "metadata": {},
   "outputs": [],
   "source": [
    "for i, building in enumerate(buildings_to_check.index):\n",
    "    plot_special_meter(building)"
   ]
  },
  {
   "cell_type": "code",
   "execution_count": null,
   "metadata": {},
   "outputs": [],
   "source": [
    "building_mean_kwh = sitbuildloc.groupby('site')['total_kwh'].mean().sort_values(ascending=False)\n",
    "building_mean_kwh_df = building_mean_kwh.reset_index()\n",
    "building_mean_kwh_df.columns = ['Site', 'Mean Energy Use']\n",
    "fig = px.bar(building_mean_kwh_df, x='Site', y = 'Mean Energy Use', title = 'Mean Energy Use per Building by Site')\n",
    "fig.show()"
   ]
  },
  {
   "cell_type": "markdown",
   "metadata": {},
   "source": [
    "# Trend"
   ]
  },
  {
   "cell_type": "code",
   "execution_count": null,
   "metadata": {},
   "outputs": [],
   "source": [
    "def plot_trend(df, attr, agg_val, data_type=None):\n",
    "    smoothed_frames = []\n",
    "    \n",
    "    \n",
    "    bldg_list =  [data_type] if data_type else df[attr].unique()\n",
    "    data_type  = data_type if data_type else 'all' \n",
    "\n",
    "    for bldg_type in bldg_list:\n",
    "        sub_df = df[df[attr] == bldg_type].copy()\n",
    "        sub_df = sub_df.set_index('timestamp').sort_index()\n",
    "\n",
    "        sub_df['value'] = sub_df['value'].rolling(window=24, min_periods=1).mean()\n",
    "        sub_df = sub_df.reset_index()\n",
    "        sub_df[attr] = bldg_type\n",
    "\n",
    "        smoothed_frames.append(sub_df)\n",
    "    mean_by_time_building_smoothed = pd.concat(smoothed_frames, ignore_index=True)\n",
    "\n",
    "    if attr == 'site':\n",
    "        title_attr = 'Site'\n",
    "    else:\n",
    "        title_attr = 'Primary Use'\n",
    "\n",
    "    fig = px.line(\n",
    "        mean_by_time_building_smoothed,\n",
    "        x='timestamp',\n",
    "        y='value',\n",
    "        color=attr,\n",
    "        title=f'{agg_val} Energy Use Over Time by {title_attr} (24-Hour Rolling Avg)'\n",
    "    )\n",
    "    fig.update_layout(legend_title_text=attr)\n",
    "    \n",
    "    \n",
    "    fig.write_image(f\"../EDA/eda_images/trend/{agg_val}_Energy_{attr}_{data_type}.png\")\n",
    "    # if data_type=='all':\n",
    "        # fig.show()"
   ]
  },
  {
   "cell_type": "markdown",
   "metadata": {},
   "source": [
    "## Mean Energy Use Over Time by Primary Use (24-Hour Rolling Avg)"
   ]
  },
  {
   "cell_type": "code",
   "execution_count": null,
   "metadata": {},
   "outputs": [],
   "source": [
    "plot_trend(usage_mean_df, 'usage', 'Mean')"
   ]
  },
  {
   "cell_type": "code",
   "execution_count": null,
   "metadata": {},
   "outputs": [],
   "source": [
    "smoothed_frames = []\n",
    "\n",
    "for bldg_type in usage_counts[usage_counts<8].index.to_list():\n",
    "    sub_df = usage_mean_df[usage_mean_df['usage'] == bldg_type].copy()\n",
    "    sub_df = sub_df.set_index('timestamp').sort_index()\n",
    "\n",
    "    sub_df['value'] = sub_df['value'].rolling(window=24, min_periods=1).mean()\n",
    "    sub_df = sub_df.reset_index()\n",
    "    sub_df['usage'] = bldg_type\n",
    "\n",
    "    smoothed_frames.append(sub_df)\n",
    "mean_by_time_building_smoothed = pd.concat(smoothed_frames, ignore_index=True)\n",
    "\n",
    "fig = px.line(\n",
    "    mean_by_time_building_smoothed,\n",
    "    x='timestamp',\n",
    "    y='value',\n",
    "    color='usage',\n",
    "    title='Mean Energy Use Over Time by Primary Use (24-Hour Rolling Avg)'\n",
    ")\n",
    "fig.update_layout(legend_title_text='Building Type')\n",
    "fig.show()\n",
    "\n",
    "fig.write_image(f\"../EDA/eda_images/trend/mean_Energy_usage_low_count.png\")\n"
   ]
  },
  {
   "cell_type": "code",
   "execution_count": null,
   "metadata": {},
   "outputs": [],
   "source": [
    "smoothed_frames = []\n",
    "\n",
    "for bldg_type in ['food', 'other', 'religion', 'retail', 'science', 'services', 'warehouse']:\n",
    "    sub_df = usage_mean_df[usage_mean_df['usage'] == bldg_type].copy()\n",
    "    sub_df = sub_df.set_index('timestamp').sort_index()\n",
    "\n",
    "    sub_df['value'] = sub_df['value'].rolling(window=24, min_periods=1).mean()\n",
    "    sub_df = sub_df.reset_index()\n",
    "    sub_df['usage'] = bldg_type\n",
    "\n",
    "    smoothed_frames.append(sub_df)\n",
    "mean_by_time_building_smoothed = pd.concat(smoothed_frames, ignore_index=True)\n",
    "\n",
    "fig = px.line(\n",
    "    mean_by_time_building_smoothed,\n",
    "    x='timestamp',\n",
    "    y='value',\n",
    "    color='usage',\n",
    "    title='Mean Energy Use Over Time by Primary Use (24-Hour Rolling Avg)'\n",
    ")\n",
    "fig.update_layout(legend_title_text='Building Type')\n",
    "fig.show()\n",
    "\n",
    "fig.write_image(f\"../EDA/eda_images/trend/mean_Energy_usage_other.png\")"
   ]
  },
  {
   "cell_type": "markdown",
   "metadata": {},
   "source": [
    "# Update Primary Use Categories"
   ]
  },
  {
   "cell_type": "markdown",
   "metadata": {},
   "source": [
    "## Filter Primary Use = 'religion' and \n",
    "## Combine Primary Use ['food', 'other', 'retail', 'science', 'services', 'warehouse'] as Primary Use = 'other'"
   ]
  },
  {
   "cell_type": "code",
   "execution_count": null,
   "metadata": {},
   "outputs": [],
   "source": [
    "filtered_df = df.drop(columns=[col for col in df.columns if '_religion_' in col])\n",
    "\n",
    "def replace_words(col):\n",
    "    for word in ['food', 'retail', 'science', 'services', 'warehouse']:\n",
    "        col = col.replace(word, 'other')\n",
    "    return col\n",
    "\n",
    "filtered_df.columns = [replace_words(col) for col in filtered_df.columns]"
   ]
  },
  {
   "cell_type": "code",
   "execution_count": null,
   "metadata": {},
   "outputs": [],
   "source": [
    "filtered_sitbuildloc = filtered_df.columns.to_series().str.extract(r'(?P<site>[^_]+)_(?P<usage>[^_]+)_(?P<location>.+)')\n",
    "filtered_sitbuildloc.index = filtered_df.columns"
   ]
  },
  {
   "cell_type": "markdown",
   "metadata": {},
   "source": [
    "# Group data by Site and Primary Use"
   ]
  },
  {
   "cell_type": "code",
   "execution_count": null,
   "metadata": {},
   "outputs": [],
   "source": [
    "total_kwh = filtered_df.sum(axis=0)\n",
    "filtered_sitbuildloc['total_kwh'] = total_kwh"
   ]
  },
  {
   "cell_type": "code",
   "execution_count": null,
   "metadata": {},
   "outputs": [],
   "source": [
    "site_usage_counts = filtered_sitbuildloc.groupby(['site', 'usage']).size()\n",
    "site_counts = filtered_sitbuildloc.groupby(['site']).size()\n",
    "usage_counts = filtered_sitbuildloc.groupby(['usage']).size()"
   ]
  },
  {
   "cell_type": "code",
   "execution_count": null,
   "metadata": {},
   "outputs": [],
   "source": [
    "usage_counts"
   ]
  },
  {
   "cell_type": "code",
   "execution_count": null,
   "metadata": {},
   "outputs": [],
   "source": [
    "# Melt for long-form\n",
    "df_EDA = filtered_df.copy()\n",
    "df_EDA['timestamp'] = df_EDA.index\n",
    "df_melted = df_EDA.melt(id_vars='timestamp', var_name='column', value_name='value')\n",
    "df_melted = df_melted.join(sitbuildloc, on='column')\n",
    "\n",
    "usage_mean_df = (\n",
    "    df_melted.groupby(['timestamp', 'usage'])['value']\n",
    "    .mean()\n",
    "    .reset_index()\n",
    ")\n",
    "\n",
    "site_mean_df = (\n",
    "    df_melted.groupby(['timestamp', 'site'])['value']\n",
    "    .mean()\n",
    "    .reset_index()\n",
    ")\n",
    "\n",
    "usage_total_df = (\n",
    "    df_melted.groupby(['timestamp', 'usage'])['value']\n",
    "    .sum()\n",
    "    .reset_index()\n",
    ")\n",
    "\n",
    "site_total_df = (\n",
    "    df_melted.groupby(['timestamp', 'site'])['value']\n",
    "    .sum()\n",
    "    .reset_index()\n",
    ")\n",
    "\n",
    "site_usage_mean_df = (\n",
    "    df_melted.groupby(['timestamp', 'site', 'usage'])['value']\n",
    "    .mean()\n",
    "    .reset_index()\n",
    ")"
   ]
  },
  {
   "cell_type": "markdown",
   "metadata": {},
   "source": [
    "# Reinvestigate Data by Site"
   ]
  },
  {
   "cell_type": "code",
   "execution_count": null,
   "metadata": {},
   "outputs": [],
   "source": [
    "site_counts_df = site_counts.reset_index()\n",
    "site_counts_df.columns = ['Site', 'Number of Buildings']\n",
    "fig = px.bar(site_counts_df, x='Site', y = 'Number of Buildings', title = 'Number of Building per Site')\n",
    "fig.show()\n",
    "\n",
    "fig.write_image(f\"../EDA/eda_images/num_per_sites_new.png\")"
   ]
  },
  {
   "cell_type": "code",
   "execution_count": null,
   "metadata": {},
   "outputs": [],
   "source": [
    "building_total_kwh = filtered_sitbuildloc.groupby('site')['total_kwh'].sum()\n",
    "building_total_kwh_df = building_total_kwh.reset_index()\n",
    "building_total_kwh_df.columns = ['Site', 'Total Energy Use']\n",
    "fig = px.bar(building_total_kwh_df, x='Site', y = 'Total Energy Use', title = 'Total Energy by Site')\n",
    "fig.show()\n",
    "fig.write_image(f\"../EDA/eda_images/total_energy_per_sites_new.png\")"
   ]
  },
  {
   "cell_type": "markdown",
   "metadata": {},
   "source": [
    "# Reinvestigate Data by Primary Use"
   ]
  },
  {
   "cell_type": "code",
   "execution_count": null,
   "metadata": {},
   "outputs": [],
   "source": [
    "usage_counts_df = usage_counts.reset_index()\n",
    "usage_counts_df.columns = ['Usage', 'Number of Buildings']\n",
    "fig = px.bar(usage_counts_df, x='Usage', y = 'Number of Buildings', title = 'Number of Building per Primary Use')\n",
    "fig.show()\n",
    "fig.write_image(f\"../EDA/eda_images/num_per_primary_use_new.png\")"
   ]
  },
  {
   "cell_type": "code",
   "execution_count": null,
   "metadata": {},
   "outputs": [],
   "source": [
    "building_total_kwh = filtered_sitbuildloc.groupby('usage')['total_kwh'].sum()\n",
    "building_total_kwh_df = building_total_kwh.reset_index()\n",
    "building_total_kwh_df.columns = ['Primary Use', 'Total Energy Use']\n",
    "fig = px.bar(building_total_kwh_df, x='Primary Use', y = 'Total Energy Use', title = 'Total Energy by Primary Use')\n",
    "# fig.show()\n",
    "fig.write_image(f\"../EDA/eda_images/total_energy_per_primary_use_new.png\")"
   ]
  },
  {
   "cell_type": "markdown",
   "metadata": {},
   "source": [
    "# Trend"
   ]
  },
  {
   "cell_type": "markdown",
   "metadata": {},
   "source": [
    "## Trend by Primary Use"
   ]
  },
  {
   "cell_type": "code",
   "execution_count": null,
   "metadata": {},
   "outputs": [],
   "source": [
    "plot_trend(usage_mean_df, 'usage', 'Mean')"
   ]
  },
  {
   "cell_type": "code",
   "execution_count": null,
   "metadata": {},
   "outputs": [],
   "source": [
    "plot_trend(usage_total_df, 'usage', 'Total')"
   ]
  },
  {
   "cell_type": "markdown",
   "metadata": {},
   "source": [
    "### Trend by each Primary Type"
   ]
  },
  {
   "cell_type": "code",
   "execution_count": null,
   "metadata": {},
   "outputs": [],
   "source": [
    "for usage in usage_total_df['usage'].unique():\n",
    "    plot_trend(usage_total_df, 'usage', 'Total', usage)"
   ]
  },
  {
   "cell_type": "code",
   "execution_count": null,
   "metadata": {},
   "outputs": [],
   "source": [
    "for usage in usage_total_df['usage'].unique():\n",
    "    plot_trend(usage_mean_df, 'usage', 'Mean', usage)"
   ]
  },
  {
   "cell_type": "markdown",
   "metadata": {},
   "source": [
    "## Trend by Site"
   ]
  },
  {
   "cell_type": "code",
   "execution_count": null,
   "metadata": {},
   "outputs": [],
   "source": [
    "plot_trend(site_mean_df, 'site', 'Mean')"
   ]
  },
  {
   "cell_type": "code",
   "execution_count": null,
   "metadata": {},
   "outputs": [],
   "source": [
    "plot_trend(site_total_df, 'site', 'Total')"
   ]
  },
  {
   "cell_type": "code",
   "execution_count": null,
   "metadata": {},
   "outputs": [],
   "source": [
    "for site in site_mean_df['site'].unique():\n",
    "    plot_trend(site_mean_df, 'site', 'Mean', site)"
   ]
  },
  {
   "cell_type": "code",
   "execution_count": null,
   "metadata": {},
   "outputs": [],
   "source": [
    "for site in site_total_df['site'].unique():\n",
    "    plot_trend(site_total_df, 'site', 'Total', site)"
   ]
  },
  {
   "cell_type": "code",
   "execution_count": null,
   "metadata": {},
   "outputs": [],
   "source": []
  }
 ],
 "metadata": {
  "kernelspec": {
   "display_name": "Python 3",
   "language": "python",
   "name": "python3"
  },
  "language_info": {
   "codemirror_mode": {
    "name": "ipython",
    "version": 3
   },
   "file_extension": ".py",
   "mimetype": "text/x-python",
   "name": "python",
   "nbconvert_exporter": "python",
   "pygments_lexer": "ipython3",
   "version": "3.11.9"
  }
 },
 "nbformat": 4,
 "nbformat_minor": 2
}
