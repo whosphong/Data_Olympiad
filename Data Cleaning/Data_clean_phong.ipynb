{
 "cells": [
  {
   "cell_type": "code",
   "execution_count": 1,
   "id": "e1e2ad32",
   "metadata": {},
   "outputs": [],
   "source": [
    "import pandas as pd\n",
    "import numpy as np\n",
    "import os"
   ]
  },
  {
   "cell_type": "code",
   "execution_count": 2,
   "id": "11c84b27",
   "metadata": {},
   "outputs": [],
   "source": [
    "url = 'https://media.githubusercontent.com/media/buds-lab/building-data-genome-project-2/refs/heads/master/data/meters/cleaned/electricity_cleaned.csv'\n",
    "\n",
    "data = pd.read_csv(url, parse_dates=['timestamp'], index_col='timestamp')"
   ]
  },
  {
   "cell_type": "code",
   "execution_count": 3,
   "id": "531db107",
   "metadata": {},
   "outputs": [
    {
     "data": {
      "text/html": [
       "<div>\n",
       "<style scoped>\n",
       "    .dataframe tbody tr th:only-of-type {\n",
       "        vertical-align: middle;\n",
       "    }\n",
       "\n",
       "    .dataframe tbody tr th {\n",
       "        vertical-align: top;\n",
       "    }\n",
       "\n",
       "    .dataframe thead th {\n",
       "        text-align: right;\n",
       "    }\n",
       "</style>\n",
       "<table border=\"1\" class=\"dataframe\">\n",
       "  <thead>\n",
       "    <tr style=\"text-align: right;\">\n",
       "      <th></th>\n",
       "      <th>Panther_parking_Lorriane</th>\n",
       "      <th>Panther_lodging_Cora</th>\n",
       "      <th>Panther_office_Hannah</th>\n",
       "      <th>Panther_lodging_Hattie</th>\n",
       "      <th>Panther_education_Teofila</th>\n",
       "      <th>Panther_education_Jerome</th>\n",
       "      <th>Panther_retail_Felix</th>\n",
       "      <th>Panther_parking_Asia</th>\n",
       "      <th>Panther_education_Misty</th>\n",
       "      <th>Panther_retail_Gilbert</th>\n",
       "      <th>...</th>\n",
       "      <th>Cockatoo_public_Caleb</th>\n",
       "      <th>Cockatoo_education_Tyler</th>\n",
       "      <th>Cockatoo_public_Shad</th>\n",
       "      <th>Mouse_health_Buddy</th>\n",
       "      <th>Mouse_health_Modesto</th>\n",
       "      <th>Mouse_lodging_Vicente</th>\n",
       "      <th>Mouse_health_Justin</th>\n",
       "      <th>Mouse_health_Ileana</th>\n",
       "      <th>Mouse_health_Estela</th>\n",
       "      <th>Mouse_science_Micheal</th>\n",
       "    </tr>\n",
       "    <tr>\n",
       "      <th>timestamp</th>\n",
       "      <th></th>\n",
       "      <th></th>\n",
       "      <th></th>\n",
       "      <th></th>\n",
       "      <th></th>\n",
       "      <th></th>\n",
       "      <th></th>\n",
       "      <th></th>\n",
       "      <th></th>\n",
       "      <th></th>\n",
       "      <th></th>\n",
       "      <th></th>\n",
       "      <th></th>\n",
       "      <th></th>\n",
       "      <th></th>\n",
       "      <th></th>\n",
       "      <th></th>\n",
       "      <th></th>\n",
       "      <th></th>\n",
       "      <th></th>\n",
       "      <th></th>\n",
       "    </tr>\n",
       "  </thead>\n",
       "  <tbody>\n",
       "    <tr>\n",
       "      <th>2016-01-01 00:00:00</th>\n",
       "      <td>NaN</td>\n",
       "      <td>NaN</td>\n",
       "      <td>NaN</td>\n",
       "      <td>NaN</td>\n",
       "      <td>NaN</td>\n",
       "      <td>NaN</td>\n",
       "      <td>NaN</td>\n",
       "      <td>NaN</td>\n",
       "      <td>NaN</td>\n",
       "      <td>NaN</td>\n",
       "      <td>...</td>\n",
       "      <td>123.200</td>\n",
       "      <td>727.575</td>\n",
       "      <td>69.200</td>\n",
       "      <td>8.8224</td>\n",
       "      <td>370.0870</td>\n",
       "      <td>10.0</td>\n",
       "      <td>282.9965</td>\n",
       "      <td>26.0</td>\n",
       "      <td>135.0</td>\n",
       "      <td>168.2243</td>\n",
       "    </tr>\n",
       "    <tr>\n",
       "      <th>2016-01-01 01:00:00</th>\n",
       "      <td>NaN</td>\n",
       "      <td>NaN</td>\n",
       "      <td>NaN</td>\n",
       "      <td>NaN</td>\n",
       "      <td>NaN</td>\n",
       "      <td>NaN</td>\n",
       "      <td>NaN</td>\n",
       "      <td>NaN</td>\n",
       "      <td>NaN</td>\n",
       "      <td>NaN</td>\n",
       "      <td>...</td>\n",
       "      <td>126.475</td>\n",
       "      <td>731.200</td>\n",
       "      <td>66.275</td>\n",
       "      <td>17.6449</td>\n",
       "      <td>737.8260</td>\n",
       "      <td>30.0</td>\n",
       "      <td>574.9265</td>\n",
       "      <td>51.0</td>\n",
       "      <td>265.0</td>\n",
       "      <td>336.4486</td>\n",
       "    </tr>\n",
       "    <tr>\n",
       "      <th>2016-01-01 02:00:00</th>\n",
       "      <td>NaN</td>\n",
       "      <td>NaN</td>\n",
       "      <td>NaN</td>\n",
       "      <td>NaN</td>\n",
       "      <td>NaN</td>\n",
       "      <td>NaN</td>\n",
       "      <td>NaN</td>\n",
       "      <td>NaN</td>\n",
       "      <td>NaN</td>\n",
       "      <td>NaN</td>\n",
       "      <td>...</td>\n",
       "      <td>127.825</td>\n",
       "      <td>724.675</td>\n",
       "      <td>64.675</td>\n",
       "      <td>17.6449</td>\n",
       "      <td>729.9255</td>\n",
       "      <td>30.0</td>\n",
       "      <td>570.2780</td>\n",
       "      <td>50.0</td>\n",
       "      <td>272.0</td>\n",
       "      <td>336.4486</td>\n",
       "    </tr>\n",
       "    <tr>\n",
       "      <th>2016-01-01 03:00:00</th>\n",
       "      <td>NaN</td>\n",
       "      <td>NaN</td>\n",
       "      <td>NaN</td>\n",
       "      <td>NaN</td>\n",
       "      <td>NaN</td>\n",
       "      <td>NaN</td>\n",
       "      <td>NaN</td>\n",
       "      <td>NaN</td>\n",
       "      <td>NaN</td>\n",
       "      <td>NaN</td>\n",
       "      <td>...</td>\n",
       "      <td>130.475</td>\n",
       "      <td>737.375</td>\n",
       "      <td>65.875</td>\n",
       "      <td>17.6449</td>\n",
       "      <td>722.2620</td>\n",
       "      <td>20.0</td>\n",
       "      <td>561.1470</td>\n",
       "      <td>52.0</td>\n",
       "      <td>276.0</td>\n",
       "      <td>336.4486</td>\n",
       "    </tr>\n",
       "    <tr>\n",
       "      <th>2016-01-01 04:00:00</th>\n",
       "      <td>NaN</td>\n",
       "      <td>NaN</td>\n",
       "      <td>NaN</td>\n",
       "      <td>NaN</td>\n",
       "      <td>NaN</td>\n",
       "      <td>NaN</td>\n",
       "      <td>NaN</td>\n",
       "      <td>NaN</td>\n",
       "      <td>NaN</td>\n",
       "      <td>NaN</td>\n",
       "      <td>...</td>\n",
       "      <td>129.675</td>\n",
       "      <td>721.150</td>\n",
       "      <td>66.275</td>\n",
       "      <td>17.6449</td>\n",
       "      <td>719.1665</td>\n",
       "      <td>30.0</td>\n",
       "      <td>564.3695</td>\n",
       "      <td>50.0</td>\n",
       "      <td>280.0</td>\n",
       "      <td>336.4486</td>\n",
       "    </tr>\n",
       "  </tbody>\n",
       "</table>\n",
       "<p>5 rows × 1578 columns</p>\n",
       "</div>"
      ],
      "text/plain": [
       "                     Panther_parking_Lorriane  Panther_lodging_Cora  \\\n",
       "timestamp                                                             \n",
       "2016-01-01 00:00:00                       NaN                   NaN   \n",
       "2016-01-01 01:00:00                       NaN                   NaN   \n",
       "2016-01-01 02:00:00                       NaN                   NaN   \n",
       "2016-01-01 03:00:00                       NaN                   NaN   \n",
       "2016-01-01 04:00:00                       NaN                   NaN   \n",
       "\n",
       "                     Panther_office_Hannah  Panther_lodging_Hattie  \\\n",
       "timestamp                                                            \n",
       "2016-01-01 00:00:00                    NaN                     NaN   \n",
       "2016-01-01 01:00:00                    NaN                     NaN   \n",
       "2016-01-01 02:00:00                    NaN                     NaN   \n",
       "2016-01-01 03:00:00                    NaN                     NaN   \n",
       "2016-01-01 04:00:00                    NaN                     NaN   \n",
       "\n",
       "                     Panther_education_Teofila  Panther_education_Jerome  \\\n",
       "timestamp                                                                  \n",
       "2016-01-01 00:00:00                        NaN                       NaN   \n",
       "2016-01-01 01:00:00                        NaN                       NaN   \n",
       "2016-01-01 02:00:00                        NaN                       NaN   \n",
       "2016-01-01 03:00:00                        NaN                       NaN   \n",
       "2016-01-01 04:00:00                        NaN                       NaN   \n",
       "\n",
       "                     Panther_retail_Felix  Panther_parking_Asia  \\\n",
       "timestamp                                                         \n",
       "2016-01-01 00:00:00                   NaN                   NaN   \n",
       "2016-01-01 01:00:00                   NaN                   NaN   \n",
       "2016-01-01 02:00:00                   NaN                   NaN   \n",
       "2016-01-01 03:00:00                   NaN                   NaN   \n",
       "2016-01-01 04:00:00                   NaN                   NaN   \n",
       "\n",
       "                     Panther_education_Misty  Panther_retail_Gilbert  ...  \\\n",
       "timestamp                                                             ...   \n",
       "2016-01-01 00:00:00                      NaN                     NaN  ...   \n",
       "2016-01-01 01:00:00                      NaN                     NaN  ...   \n",
       "2016-01-01 02:00:00                      NaN                     NaN  ...   \n",
       "2016-01-01 03:00:00                      NaN                     NaN  ...   \n",
       "2016-01-01 04:00:00                      NaN                     NaN  ...   \n",
       "\n",
       "                     Cockatoo_public_Caleb  Cockatoo_education_Tyler  \\\n",
       "timestamp                                                              \n",
       "2016-01-01 00:00:00                123.200                   727.575   \n",
       "2016-01-01 01:00:00                126.475                   731.200   \n",
       "2016-01-01 02:00:00                127.825                   724.675   \n",
       "2016-01-01 03:00:00                130.475                   737.375   \n",
       "2016-01-01 04:00:00                129.675                   721.150   \n",
       "\n",
       "                     Cockatoo_public_Shad  Mouse_health_Buddy  \\\n",
       "timestamp                                                       \n",
       "2016-01-01 00:00:00                69.200              8.8224   \n",
       "2016-01-01 01:00:00                66.275             17.6449   \n",
       "2016-01-01 02:00:00                64.675             17.6449   \n",
       "2016-01-01 03:00:00                65.875             17.6449   \n",
       "2016-01-01 04:00:00                66.275             17.6449   \n",
       "\n",
       "                     Mouse_health_Modesto  Mouse_lodging_Vicente  \\\n",
       "timestamp                                                          \n",
       "2016-01-01 00:00:00              370.0870                   10.0   \n",
       "2016-01-01 01:00:00              737.8260                   30.0   \n",
       "2016-01-01 02:00:00              729.9255                   30.0   \n",
       "2016-01-01 03:00:00              722.2620                   20.0   \n",
       "2016-01-01 04:00:00              719.1665                   30.0   \n",
       "\n",
       "                     Mouse_health_Justin  Mouse_health_Ileana  \\\n",
       "timestamp                                                       \n",
       "2016-01-01 00:00:00             282.9965                 26.0   \n",
       "2016-01-01 01:00:00             574.9265                 51.0   \n",
       "2016-01-01 02:00:00             570.2780                 50.0   \n",
       "2016-01-01 03:00:00             561.1470                 52.0   \n",
       "2016-01-01 04:00:00             564.3695                 50.0   \n",
       "\n",
       "                     Mouse_health_Estela  Mouse_science_Micheal  \n",
       "timestamp                                                        \n",
       "2016-01-01 00:00:00                135.0               168.2243  \n",
       "2016-01-01 01:00:00                265.0               336.4486  \n",
       "2016-01-01 02:00:00                272.0               336.4486  \n",
       "2016-01-01 03:00:00                276.0               336.4486  \n",
       "2016-01-01 04:00:00                280.0               336.4486  \n",
       "\n",
       "[5 rows x 1578 columns]"
      ]
     },
     "execution_count": 3,
     "metadata": {},
     "output_type": "execute_result"
    }
   ],
   "source": [
    "data.head()"
   ]
  },
  {
   "cell_type": "code",
   "execution_count": 4,
   "id": "e330d8e5",
   "metadata": {},
   "outputs": [
    {
     "data": {
      "text/plain": [
       "(17544, 1578)"
      ]
     },
     "execution_count": 4,
     "metadata": {},
     "output_type": "execute_result"
    }
   ],
   "source": [
    "data.shape"
   ]
  },
  {
   "cell_type": "code",
   "execution_count": 5,
   "id": "3c85c0b2",
   "metadata": {},
   "outputs": [
    {
     "data": {
      "text/plain": [
       "Hog_assembly_Arlie        17544\n",
       "Hog_assembly_Una          17544\n",
       "Hog_assembly_Marilynn     17544\n",
       "Eagle_assembly_Noel       17544\n",
       "Eagle_lodging_Garland     17544\n",
       "                          ...  \n",
       "Robin_lodging_Donna           0\n",
       "Robin_office_Antonina         0\n",
       "Robin_office_Zelma            0\n",
       "Robin_education_Jasper        0\n",
       "Robin_public_Carolina         0\n",
       "Length: 1578, dtype: int64"
      ]
     },
     "execution_count": 5,
     "metadata": {},
     "output_type": "execute_result"
    }
   ],
   "source": [
    "data.isnull().sum().sort_values(ascending=False)"
   ]
  },
  {
   "cell_type": "markdown",
   "id": "0511daff",
   "metadata": {},
   "source": [
    "Data Size and Importance:\n",
    "\n",
    "If you have a large dataset with a wide range of data points, dropping a few columns might not be a significant problem. However, if the data is limited, or the missing columns contain crucial information, a higher threshold might be necessary.\n",
    "\n",
    "Time Granularity:\n",
    "\n",
    "- Yearly Data: Missing values in yearly data might not be as critical as in daily data because you're likely aggregating or averaging over longer periods. A higher percentage of missing values might be tolerated for yearly data.\n",
    "\n",
    "- Monthly Data: Missing values are more noticeable in monthly data as you're looking at shorter time intervals. A lower percentage of missing values might be preferred.\n",
    "\n",
    "- Daily Data: Missing daily values can significantly impact the analysis, especially for time series forecasting. The threshold for dropping should be low. "
   ]
  },
  {
   "cell_type": "code",
   "execution_count": 7,
   "id": "493747ee",
   "metadata": {},
   "outputs": [],
   "source": [
    "# Calculate yearly missing value ratios\n",
    "miss_ratio_y = data.resample('YE').apply(lambda x: x.isna().mean())\n",
    "\n",
    "# Identify columns to drop based on yearly missing value threshold\n",
    "cols_drop_y = miss_ratio_y.columns[\n",
    "    (miss_ratio_y > 0.06).any()\n",
    "].tolist()\n",
    "\n",
    "miss_ratio_m = data.resample('ME').apply(lambda x: x.isna().mean())\n",
    "\n",
    "cols_drop_m = miss_ratio_m.columns[\n",
    "    (miss_ratio_m > 0.12).any()\n",
    "].tolist()\n",
    "\n",
    "miss_ratio_d = data.resample('D').apply(lambda x: x.isna().mean())\n",
    "\n",
    "cols_drop_d = miss_ratio_d.columns[\n",
    "    (miss_ratio_d > 0.55).any()\n",
    "].tolist()\n"
   ]
  },
  {
   "cell_type": "code",
   "execution_count": null,
   "id": "ee25f9bd",
   "metadata": {},
   "outputs": [],
   "source": []
  },
  {
   "cell_type": "code",
   "execution_count": 8,
   "id": "8b09efe5",
   "metadata": {},
   "outputs": [
    {
     "data": {
      "text/plain": [
       "(583, 698, 1188)"
      ]
     },
     "execution_count": 8,
     "metadata": {},
     "output_type": "execute_result"
    }
   ],
   "source": [
    "len(cols_drop_y), len(cols_drop_m), len(cols_drop_d)"
   ]
  },
  {
   "cell_type": "code",
   "execution_count": 9,
   "id": "7ef04ddf",
   "metadata": {},
   "outputs": [],
   "source": [
    "all_cols_to_drop = set(cols_drop_y + cols_drop_m + cols_drop_d)\n",
    "cols_existing = data.columns.intersection(all_cols_to_drop)\n",
    "data = data.drop(columns=cols_existing)"
   ]
  },
  {
   "cell_type": "code",
   "execution_count": 10,
   "id": "23f6b992",
   "metadata": {},
   "outputs": [
    {
     "data": {
      "text/plain": [
       "(17544, 389)"
      ]
     },
     "execution_count": 10,
     "metadata": {},
     "output_type": "execute_result"
    }
   ],
   "source": [
    "data.shape"
   ]
  },
  {
   "cell_type": "code",
   "execution_count": 11,
   "id": "8705a2ed",
   "metadata": {},
   "outputs": [],
   "source": [
    "data = data.ffill().bfill()"
   ]
  },
  {
   "cell_type": "code",
   "execution_count": 12,
   "id": "5faa194e",
   "metadata": {},
   "outputs": [
    {
     "data": {
      "text/plain": [
       "Hog_assembly_Jasmine    0\n",
       "Hog_lodging_Hal         0\n",
       "Hog_office_Richelle     0\n",
       "Hog_office_Vera         0\n",
       "Hog_public_Crystal      0\n",
       "Hog_public_Brad         0\n",
       "Hog_education_Robert    0\n",
       "Hog_education_Odell     0\n",
       "Hog_office_Sherrie      0\n",
       "Hog_assembly_Pedro      0\n",
       "dtype: int64"
      ]
     },
     "execution_count": 12,
     "metadata": {},
     "output_type": "execute_result"
    }
   ],
   "source": [
    "data.isnull().sum().sort_values(ascending=True).head(10)"
   ]
  },
  {
   "cell_type": "code",
   "execution_count": 13,
   "id": "96e5f4b4",
   "metadata": {},
   "outputs": [
    {
     "data": {
      "text/plain": [
       "np.int64(0)"
      ]
     },
     "execution_count": 13,
     "metadata": {},
     "output_type": "execute_result"
    }
   ],
   "source": [
    "data.duplicated().sum()"
   ]
  },
  {
   "cell_type": "code",
   "execution_count": null,
   "id": "262a7624",
   "metadata": {},
   "outputs": [],
   "source": []
  }
 ],
 "metadata": {
  "kernelspec": {
   "display_name": "dsci",
   "language": "python",
   "name": "python3"
  },
  "language_info": {
   "codemirror_mode": {
    "name": "ipython",
    "version": 3
   },
   "file_extension": ".py",
   "mimetype": "text/x-python",
   "name": "python",
   "nbconvert_exporter": "python",
   "pygments_lexer": "ipython3",
   "version": "3.9.21"
  }
 },
 "nbformat": 4,
 "nbformat_minor": 5
}
